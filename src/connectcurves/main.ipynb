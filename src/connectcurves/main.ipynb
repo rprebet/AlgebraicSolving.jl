{
 "cells": [
  {
   "cell_type": "code",
   "execution_count": 22,
   "metadata": {},
   "outputs": [
    {
     "name": "stdout",
     "output_type": "stream",
     "text": [
      "Loading libraries and data..\n"
     ]
    }
   ],
   "source": [
    "println(\"Loading libraries and data..\")\n",
    "using AlgebraicSolving\n",
    "#import Nemo:\n",
    "#    is_univariate,\n",
    "#    coefficients_of_univariate\n",
    "using Nemo\n",
    "#using Oscar\n",
    "#include(\"tools.jl\")"
   ]
  },
  {
   "cell_type": "code",
   "execution_count": 23,
   "metadata": {},
   "outputs": [
    {
     "data": {
      "text/plain": [
       "usolve (generic function with 1 method)"
      ]
     },
     "metadata": {},
     "output_type": "display_data"
    }
   ],
   "source": [
    "\n",
    "include(\"data.jl\")\n",
    "include(\"src/usolve/usolve.jl\")\n",
    "#using Arblib"
   ]
  },
  {
   "cell_type": "code",
   "execution_count": 130,
   "metadata": {},
   "outputs": [
    {
     "data": {
      "text/plain": [
       "evaluate_Arb (generic function with 1 method)"
      ]
     },
     "metadata": {},
     "output_type": "display_data"
    }
   ],
   "source": [
    "function order_permut2d(L)\n",
    "    # Create a list of tuples with elements and their corresponding indices\n",
    "    LL = [(L[i][j], (i, j)) for i in eachindex(L) for j in eachindex(L[i])]\n",
    "    # Sort the enumerated list based on the values\n",
    "    sorted_LL = sort(LL, by = x -> x[1])\n",
    "    # Extract the sorted values and their corresponding indices\n",
    "    sorted_L = [pair[1] for pair in sorted_LL]\n",
    "    sorted_ind = [pair[2] for pair in sorted_LL]\n",
    "    \n",
    "    return sorted_L, sorted_ind\n",
    "end\n",
    "\n",
    "function isolate(f; prec = 32, software=\"usolve\")\n",
    "    @assert is_univariate(f) \"Not univariate polynomial\"\n",
    "\tif software == \"usolve\"\n",
    "\t\treturn usolve(f, precision = prec, uspath=\"src/usolve/usolve\")\n",
    "    end\n",
    "end\n",
    "\n",
    "function isolate_eval(f, ivar, val; prec=64)\n",
    "    sols = real_solutions(AlgebraicSolving.Ideal([f, gens(R)[ivar] - val]), precision=prec)\n",
    "    return [ s[ivar%2+1] for s in sols ]\n",
    "end\n",
    "\n",
    "function Arb_to_rat(x)\n",
    "\tr = radius(x)\n",
    "\treturn map(simplest_rational_inside, [x-2*r, x+2*r])\n",
    "end\n",
    "\n",
    "function rat_to_Arb(x)\n",
    "    x1,x2 = x\n",
    "    xm, xd = RR((x1+x2)/2), RR(x2-x1)\n",
    "    return ball(xm,xd)\n",
    "end\n",
    "\n",
    "function evaluate_Arb(f, x)\n",
    "\tcf = coefficients_of_univariate(f)\n",
    "\treturn evalpoly(RR(x), cf) \n",
    "end"
   ]
  },
  {
   "cell_type": "code",
   "execution_count": 131,
   "metadata": {},
   "outputs": [
    {
     "name": "stdout",
     "output_type": "stream",
     "text": [
      "Isolating critical values..\n"
     ]
    }
   ],
   "source": [
    "println(\"Isolating critical values..\")\n",
    "xcrit = [ isolate(first(p), prec=150) for p in params ]\n",
    "xcrit_usolve = getindex.(xcrit, 1)\n",
    "xcrit = getindex.(xcrit, 2)\n",
    "xcritorder, xcritpermut = order_permut2d(xcrit);"
   ]
  },
  {
   "cell_type": "code",
   "execution_count": 132,
   "metadata": {},
   "outputs": [
    {
     "name": "stdout",
     "output_type": "stream",
     "text": [
      "Computing isolating critical boxes using Arb..\n"
     ]
    }
   ],
   "source": [
    "println(\"Computing isolating critical boxes using Arb..\")\n",
    "#RR(x) = Arb(x, prec=120)\n",
    "RR = ArbField(150)\n",
    "Pcrit = [ [ [xc, evaluate_Arb(params[i][2], xc[1])/evaluate_Arb(params[i][3],xc[1])] for xc in xcrit[i]] for i in eachindex(xcrit) ]\n",
    "LBcrit = [ [ [ map(QQ, pc[1]), map(QQ, Arb_to_rat(pc[2])) ]  for pc in pcrit] for pcrit in Pcrit ];\n",
    "Pcrit = [ [ [ rat_to_Arb(pc[1]), pc[2] ]  for pc in pcrit] for pcrit in Pcrit ];"
   ]
  },
  {
   "cell_type": "code",
   "execution_count": 187,
   "metadata": {},
   "outputs": [
    {
     "data": {
      "text/html": [
       "[0.00592297584970014544321252 +/- 4.43e-27]"
      ],
      "text/latex": [
       "[0.00592297584970014544321252 +/- 4.43e-27]"
      ],
      "text/plain": [
       "[0.00592297584970014544321252 +/- 4.43e-27]"
      ]
     },
     "metadata": {},
     "output_type": "display_data"
    }
   ],
   "source": [
    "Pcrit[1][1][2]"
   ]
  },
  {
   "cell_type": "code",
   "execution_count": 191,
   "metadata": {},
   "outputs": [
    {
     "data": {
      "text/plain": [
       "intersect_box (generic function with 1 method)"
      ]
     },
     "metadata": {},
     "output_type": "display_data"
    }
   ],
   "source": [
    "# To try/do : isolate with usolve, call msolve with only one variable\n",
    "function intersect_box(f, B)\n",
    "    L = Array{Any}(undef, 4)\n",
    "    for i in 1:2\n",
    "        # Lxi\n",
    "        L[i] = Array{Any}(undef,2)\n",
    "        L[i][1] = isolate_eval(f, 2, B[2][i], prec=150)\n",
    "        L[i][2] = [ j for (j, l) in pairs(L[i][1]) if (l> B[1][1] && l<B[1][2]) ]\n",
    "        # Lyi\n",
    "        L[i+2] = Array{Any}(undef,2)\n",
    "        L[i+2][1] = isolate_eval(f, 1, B[1][i], prec=150)\n",
    "        L[i+2][2] =  [ j for (j, l) in pairs(L[i+2][1]) if (l> B[2][1] && l<B[2][2]) ]\n",
    "    end\n",
    "    return L\n",
    "end"
   ]
  },
  {
   "cell_type": "code",
   "execution_count": 192,
   "metadata": {},
   "outputs": [
    {
     "data": {
      "text/plain": [
       "refine_xboxes (generic function with 1 method)"
      ]
     },
     "metadata": {},
     "output_type": "display_data"
    }
   ],
   "source": [
    "function refine_xboxes(f, LBcrit)\n",
    "    # Implementation of refine_xboxes function goes here\n",
    "end"
   ]
  },
  {
   "cell_type": "code",
   "execution_count": 193,
   "metadata": {},
   "outputs": [
    {
     "name": "stdout",
     "output_type": "stream",
     "text": [
      "\n",
      "Compute intersections with critical boxes\n",
      "mult=1 ; 16/16 pts\n",
      "mult=2 ; 60/60 pts\n",
      "Average time for one point: 0.25893976186451156s\n",
      "Elapsed time to compute critical boxes: 19.82736611366272s\n"
     ]
    }
   ],
   "source": [
    "println(\"\\nCompute intersections with critical boxes\")\n",
    "ts = time()\n",
    "LPCside = Array{Any}(undef,2)\n",
    "ndig = maximum([Int(floor(log10(length(LBcrit[i])))) for i in 1:2])\n",
    "Ltm = []\n",
    "i = 1\n",
    "while i <= length(LBcrit)\n",
    "    ndigi = Int(floor(log10(length(LBcrit[i]))))\n",
    "    LPCside[i] = Array{Any}(undef, length(LBcrit[i]))\n",
    "    for j in eachindex(LBcrit[i])\n",
    "        print(\"mult=$i ; $(j)/$(length(LBcrit[i]))$(repeat(\" \", ndig-ndigi+1))pts\",\"\\r\")\n",
    "        tm = time()\n",
    "        pcside = intersect_box(f, LBcrit[i][j])\n",
    "        npcside = [length(n) for (I, n) in pcside]\n",
    "        if i == 1 && sum(npcside) > 2\n",
    "            @assert false \"\\nRefine extreme boxes along x-axis\"\n",
    "            #refine_xboxes(QQ[\"x\"](params[1][1]), LBcrit[1])\n",
    "            #i = 0\n",
    "            #j = 1\n",
    "            #break\n",
    "        elseif i > 1 && sum(npcside[1:2]) != 0\n",
    "            @assert false \"\\nRefine singular boxes along x-axis\"\n",
    "            #refine_xboxes(QQ[\"x\"](params[2][1]), LBcrit[2])\n",
    "            #i -= 1\n",
    "            #break\n",
    "        end\n",
    "        LPCside[i][j] = pcside\n",
    "        push!(Ltm, time() - tm)\n",
    "    end\n",
    "    i += 1\n",
    "    println(\"\")\n",
    "end\n",
    "LnPCside = [ [[length(indI) for (L, indI) in PB] for PB in lpcside] for lpcside in LPCside ] \n",
    "println(\"Average time for one point: $(mean(Ltm))s\")\n",
    "println(\"Elapsed time to compute critical boxes: $(time()-ts)s\")\n"
   ]
  },
  {
   "cell_type": "code",
   "execution_count": 190,
   "metadata": {},
   "outputs": [
    {
     "name": "stdout",
     "output_type": "stream",
     "text": [
      "true"
     ]
    }
   ],
   "source": [
    "y1, y2 = [ l[1] for l in LPCside[1][1] ][4]\n",
    "yB1, yB2 = LBcrit[1][1][2]\n",
    "yRB = Pcrit[1][1][2]\n",
    "print(y2<yB2)"
   ]
  },
  {
   "cell_type": "code",
   "execution_count": 196,
   "metadata": {},
   "outputs": [],
   "source": [
    "# Update extreme boxes\n",
    "for j in eachindex(LBcrit[1])\n",
    "    # If the curve does not intersect the box only on vertical sides or not at all\n",
    "    if !(LnPCside[1][j][1:2] == [0, 0]) || sum(LnPCside[1][j])==0\n",
    "        PCside, nPCside = LPCside[1][j], LnPCside[1][j]\n",
    "        I = [ l[1] for l in PCside[3:end] ]\n",
    "        nI = [ l[2] for l in PCside[3:end] ]\n",
    "        # Locate the orientation of the extreme point\n",
    "        # s is the index on the side where there are more branches\n",
    "        # s=1: left; s=2: right\n",
    "        s = argmax([length(I[1]), length(I[2])])\n",
    "        # Ordinate range of the extreme point\n",
    "        ycrit = Pcrit[1][j][2]\n",
    "        # If it intersects on the bottom side\n",
    "        if nPCside[1] == 1\n",
    "            # yinf: the intersection with the vertical side just below the extreme point\n",
    "            yinf = maximum([i for (i, yy) in pairs(I[s]) if yy < ycrit])\n",
    "            # We vertically enlarge the box until it intersects on the horizontal side\n",
    "            push!(LPCside[1][j][s + 2][2], yinf)\n",
    "            LPCside[1][j][1][2] = []\n",
    "            # We update the intersection numbers\n",
    "            LnPCside[1][j][s + 2] += 1\n",
    "            LnPCside[1][j][1] = 0\n",
    "        end\n",
    "        # If it intersects on the top side\n",
    "        if nPCside[2] == 1 \n",
    "            # ymax: the intersection with the vertical side just above the extreme point\n",
    "            ymax = minimum([i for (i, yy) in pairs(I[s]) if yy > ycrit])\n",
    "            # We vertically enlarge the box until it intersects on the horizontal side\n",
    "            push!(LPCside[1][j][s + 2][2], ymax)\n",
    "            LPCside[1][j][2][2] = []\n",
    "            # We update the intersection numbers\n",
    "            LnPCside[1][j][s + 2] += 1\n",
    "            LnPCside[1][j][2] = 0\n",
    "        end\n",
    "    end\n",
    "end"
   ]
  },
  {
   "cell_type": "code",
   "execution_count": 205,
   "metadata": {},
   "outputs": [
    {
     "name": "stdout",
     "output_type": "stream",
     "text": [
      "Graph computation\n",
      "I :Vector{QQFieldElem}[[], []]"
     ]
    },
    {
     "ename": "BoundsError",
     "evalue": "BoundsError: attempt to access 0-element Vector{QQFieldElem} at index [1]",
     "output_type": "error",
     "traceback": [
      "BoundsError: attempt to access 0-element Vector{QQFieldElem} at index [1]\n",
      "\n",
      "Stacktrace:\n",
      " [1] getindex(A::Vector{QQFieldElem}, i1::Int64)\n",
      "   @ Base ./essentials.jl:13\n",
      " [2] top-level scope\n",
      "   @ ~/Documents/gittravail/AlgCurves/main.ipynb:28"
     ]
    }
   ],
   "source": [
    "print(\"Graph computation\")\n",
    "# Would be nice to have only one intermediate fiber (take the average of abscissa and ordinates) for plot\n",
    "# And even remove this fiber for the graph\n",
    "Vert = []\n",
    "Edg = []\n",
    "Corr = [[[[], [[], [], []], []] for j in xcrit[i] ] for i in eachindex(xcrit) ]\n",
    "Viso = []\n",
    "ite = 1\n",
    "\n",
    "for ind in 1:length(xcritpermut)\n",
    "    i, j = xcritpermut[ind]\n",
    "    if ind > 1\n",
    "        i1, j1 = xcritpermut[ind - 1]\n",
    "    end\n",
    "    if ind < length(xcritpermut)\n",
    "        i2, j2 = xcritpermut[ind + 1]\n",
    "        I2L, nI2L = LPCside[i2][j2][2]\n",
    "    end\n",
    "\n",
    "    PCside, nPCside = LPCside[i][j], LnPCside[i][j]\n",
    "    I = [ l[1] for l in PCside[3:end] ]\n",
    "    nI = [ l[2] for l in PCside[3:end] ]\n",
    "    \n",
    "    ymincrit = min(nI[1][1] + nI[1][2] + [length(I[1][1])])\n",
    "\n",
    "    # Construct vertices\n",
    "    ###########################\n",
    "    # On the vertical left side\n",
    "    if ind > 1\n",
    "        for k in 1:length(I[1][1])\n",
    "            push!(Corr[i][j][1][1], Corr[i1][j1][3][k])\n",
    "        end\n",
    "    else\n",
    "        for k in 1:length(I[1][1])\n",
    "            push!(Vert, (xcrit[i][j].lower() - exp, I[1][1][k]))\n",
    "            push!(Corr[i][j][1][1], ite)\n",
    "            ite += 1\n",
    "        end\n",
    "    end\n",
    "    ###########################\n",
    "    # On the vertical right side\n",
    "    if ind < length(xcritpermut)\n",
    "        for k in 1:length(I[1][2])\n",
    "            push!(Vert, ((xcrit[i][j] + xcrit[i2][j2]).lower() / 2 + exp, (I[1][2][k] + I2L[k]).lower() / 2))\n",
    "            push!(Corr[i][j][3], ite)\n",
    "            ite += 1\n",
    "        end\n",
    "    else\n",
    "        for k in 1:length(I[1][2])\n",
    "            push!(Vert, (xcrit[i][j].upper() + exp, I[1][2][k]))\n",
    "            push!(Corr[i][j][3], ite)\n",
    "            ite += 1\n",
    "        end\n",
    "    end\n",
    "    ###########################\n",
    "    # Below the critical point\n",
    "    for k in 1:ymincrit\n",
    "        push!(Vert, (xcrit[i][j], (I[1][1][k] + I[1][2][k]) / 2))\n",
    "        push!(Corr[i][j][2][1], ite)\n",
    "        push!(Edg, (Corr[i][j][1][1][k], ite))  # left\n",
    "        push!(Edg, (ite, Corr[i][j][3][k]))  # right\n",
    "        ite += 1\n",
    "    end\n",
    "    ###########################\n",
    "    # The critical point\n",
    "    ##########################\n",
    "    # if it is an isolated point\n",
    "    if isempty(nI[1][1]) && isempty(nI[1][2])\n",
    "        #pass\n",
    "        # We can add the isolated  vertex\n",
    "        # push!(Vert, Pcrit[i][j])\n",
    "        # push!(Corr[i][j][2][1], ite)\n",
    "        # We will subsequently add the vertex in the graph\n",
    "        # push!(Viso, ite)\n",
    "        # ite += 1\n",
    "    ############################################\n",
    "    ## TO BE REPLACED BY APPSING IDENTIFICATOR ##\n",
    "    ## works for space curves without nodes   ##\n",
    "    ############################################\n",
    "    # If we are dealing with a node\n",
    "    elseif i == 1\n",
    "        # We connect the pairwise opposite branches nI[1][1][i] and nI[1][2][i+1 mod 2], i=1,2\n",
    "        push!(Edg, (Corr[i][j][1][1][nI[1][1][1]], Corr[i][j][3][nI[1][2][2]]))\n",
    "        push!(Edg, (Corr[i][j][1][1][nI[1][1][2]], Corr[i][j][3][nI[1][2][1]]))\n",
    "    else\n",
    "        # We can add the vertex\n",
    "        push!(Vert, Pcrit[i][j])\n",
    "        push!(Corr[i][j][2][1], ite)\n",
    "        # We connect to the vertical left side of the critical box\n",
    "        for k in nI[1][1]\n",
    "            push!(Edg, (Corr[i][j][1][1][k], ite))\n",
    "        end\n",
    "        # We connect to the vertical right side of the critical box\n",
    "        for k in nI[1][2]\n",
    "            push!(Edg, (ite, Corr[i][j][3][k]))\n",
    "        end\n",
    "        ite += 1\n",
    "    end\n",
    "    ###########################\n",
    "    # Above the critical point\n",
    "    for k in length(I[1][1]) - length(nI[1][1]) - ymincrit:-1:1\n",
    "        push!(Vert, (xcrit[i][j], (I[1][1][end - k + 1] + I[1][2][end - k + 1]) / 2))\n",
    "        push!(Corr[i][j][2][3], ite)\n",
    "        push!(Edg, (Corr[i][j][1][1][end - k + 1], ite))  # left\n",
    "        push!(Edg, (ite, Corr[i][j][3][end - k + 1]))  # right\n",
    "        ite += 1\n",
    "    end\n",
    "end"
   ]
  },
  {
   "cell_type": "code",
   "execution_count": 20,
   "metadata": {},
   "outputs": [
    {
     "ename": "UndefVarError",
     "evalue": "UndefVarError: `LnPCside` not defined",
     "output_type": "error",
     "traceback": [
      "UndefVarError: `LnPCside` not defined\n",
      "\n",
      "Stacktrace:\n",
      " [1] top-level scope\n",
      "   @ ~/Documents/gittravail/AlgCurves/main.ipynb:1"
     ]
    }
   ],
   "source": []
  },
  {
   "cell_type": "code",
   "execution_count": 21,
   "metadata": {},
   "outputs": [],
   "source": [
    "I"
   ]
  }
 ],
 "metadata": {
  "kernelspec": {
   "display_name": "Julia 1.10.1",
   "language": "julia",
   "name": "julia-1.10"
  },
  "language_info": {
   "file_extension": ".jl",
   "mimetype": "application/julia",
   "name": "julia",
   "version": "1.10.1"
  }
 },
 "nbformat": 4,
 "nbformat_minor": 2
}
