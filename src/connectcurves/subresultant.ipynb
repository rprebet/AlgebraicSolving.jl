{
 "cells": [
  {
   "cell_type": "code",
   "execution_count": 1,
   "metadata": {},
   "outputs": [],
   "source": [
    "using Nemo"
   ]
  },
  {
   "cell_type": "code",
   "execution_count": 67,
   "metadata": {},
   "outputs": [
    {
     "data": {
      "text/plain": [
       "subresultants (generic function with 2 methods)"
      ]
     },
     "metadata": {},
     "output_type": "display_data"
    }
   ],
   "source": [
    "function subresultants(P::PolyRingElem{T}, Q::PolyRingElem{T}) where T <: RingElement\n",
    "    if degree(P) < degree(Q)\n",
    "        P, Q = Q, P\n",
    "    end\n",
    "    S = []\n",
    "    s = leading_coefficient(Q)^(degree(P)-degree(Q))\n",
    "    A = Q\n",
    "    B = pseudorem(P,-Q)\n",
    "    ring = parent(P)\n",
    "    while true\n",
    "        d = degree(A)\n",
    "        e = degree(B)\n",
    "        if iszero(B)\n",
    "            return S\n",
    "        end\n",
    "        pushfirst!(S, copy(B))\n",
    "        delta = d - e\n",
    "        if delta > 1\n",
    "            if length(S) > 1\n",
    "                n = degree(S[2]) - degree(S[1]) - 1\n",
    "                if n == 0\n",
    "                    C = copy(S[1])\n",
    "                else\n",
    "                    x = leading_coefficient(S[1])\n",
    "                    y = leading_coefficient(S[2])\n",
    "                    a = 1 << (length(bits(ZZ(n))) - 1)\n",
    "                    c = x\n",
    "                    n = n - a\n",
    "                    while a > 1\n",
    "                        a ÷= 2\n",
    "                        c = c^2 / y\n",
    "                        if n >= a\n",
    "                            c = c * x / y\n",
    "                            n = n - a\n",
    "                        end\n",
    "                    end\n",
    "                    C = c * S[1] / y\n",
    "                end\n",
    "            else\n",
    "                C = leading_coefficient(B)^(delta-1) * B / s^(delta-1)\n",
    "            end\n",
    "            pushfirst!(S, copy(C))\n",
    "        else\n",
    "            C = copy(B)\n",
    "        end\n",
    "        if e == 0\n",
    "            return S\n",
    "        end\n",
    "        B = pseudorem(A,-B) / (s^delta * leading_coefficient(A))\n",
    "        A = copy(C)\n",
    "        s = leading_coefficient(A)\n",
    "    end\n",
    "end\n"
   ]
  },
  {
   "cell_type": "code",
   "execution_count": null,
   "metadata": {},
   "outputs": [],
   "source": [
    "f"
   ]
  },
  {
   "cell_type": "code",
   "execution_count": 68,
   "metadata": {},
   "outputs": [
    {
     "data": {
      "text/html": [
       "-x*y^2 + (x^2 + 6)*y - x^2 - x - 6"
      ],
      "text/latex": [
       "-x y^{2} + \\left(x^{2} + 6\\right) y - x^{2} - x - 6"
      ],
      "text/plain": [
       "-x*y^2 + (x^2 + 6)*y - x^2 - x - 6"
      ]
     },
     "metadata": {},
     "output_type": "display_data"
    }
   ],
   "source": [
    "#using Nemo\n",
    "R, x = polynomial_ring(QQ, \"x\")\n",
    "#f = x^8 + x^6 -3*x^4 -3*x^3 +8*x^2 +2*x -5\n",
    "#g = 3*x^6 +5*x^4 -4*x^2 -9*x +21\n",
    "S, y = polynomial_ring(R, \"y\")\n",
    "f = (y^2 + 6)*(x - 1) - y*(x^2 + 1)\n",
    "g = (x^2 + 6)*(y - 1) - x*(y^2 + 1)"
   ]
  },
  {
   "cell_type": "code",
   "execution_count": 69,
   "metadata": {},
   "outputs": [
    {
     "data": {
      "text/plain": [
       "2-element Vector{Any}:\n",
       " 2*x^6 - 22*x^5 + 102*x^4 - 274*x^3 + 488*x^2 - 552*x + 288\n",
       " (-x^2 + 5*x - 6)*y - x^3 + 6*x^2 - 11*x + 6"
      ]
     },
     "metadata": {},
     "output_type": "display_data"
    }
   ],
   "source": [
    "subresultants(f,g)"
   ]
  },
  {
   "cell_type": "code",
   "execution_count": 31,
   "metadata": {},
   "outputs": [
    {
     "data": {
      "text/html": [
       "11//8"
      ],
      "text/latex": [
       "\\frac{11}{8}"
      ],
      "text/plain": [
       "11//8"
      ]
     },
     "metadata": {},
     "output_type": "display_data"
    }
   ],
   "source": [
    "divrem(f,-g)[2]"
   ]
  },
  {
   "cell_type": "code",
   "execution_count": 48,
   "metadata": {},
   "outputs": [
    {
     "data": {
      "text/html": [
       "64"
      ],
      "text/latex": [
       "64"
      ],
      "text/plain": [
       "64"
      ]
     },
     "metadata": {},
     "output_type": "display_data"
    }
   ],
   "source": [
    "prevpow2(ZZ(100))"
   ]
  },
  {
   "cell_type": "code",
   "execution_count": 52,
   "metadata": {},
   "outputs": [
    {
     "data": {
      "text/plain": [
       "Integers"
      ]
     },
     "metadata": {},
     "output_type": "display_data"
    }
   ],
   "source": [
    "parent(degree(f))"
   ]
  },
  {
   "cell_type": "code",
   "execution_count": 75,
   "metadata": {},
   "outputs": [
    {
     "data": {
      "text/plain": [
       "(Multivariate polynomial ring in 2 variables over QQ, QQMPolyRingElem[a, b])"
      ]
     },
     "metadata": {},
     "output_type": "display_data"
    }
   ],
   "source": [
    "RR, (a,b) = Nemo.polynomial_ring(QQ,[:a,:b])"
   ]
  },
  {
   "cell_type": "code",
   "execution_count": 95,
   "metadata": {},
   "outputs": [
    {
     "data": {
      "text/html": [
       "a^2 + a*b^2 + b"
      ],
      "text/latex": [
       "a^{2} + a b^{2} + b"
      ],
      "text/plain": [
       "a^2 + a*b^2 + b"
      ]
     },
     "metadata": {},
     "output_type": "display_data"
    }
   ],
   "source": [
    "P = a^2+b+a*b^2"
   ]
  },
  {
   "cell_type": "code",
   "execution_count": 140,
   "metadata": {},
   "outputs": [
    {
     "data": {
      "text/plain": [
       "view_as_univariate (generic function with 1 method)"
      ]
     },
     "metadata": {},
     "output_type": "display_data"
    }
   ],
   "source": [
    "function view_as_univariate(P, x)\n",
    "    A = parent(P)\n",
    "    # Find the index of the variable x\n",
    "    idx = var_index(x)\n",
    "\n",
    "    # If x is not found, return P unchanged\n",
    "    if idx === nothing\n",
    "        return P\n",
    "    end\n",
    "\n",
    "    # Extract variables of the polynomial ring\n",
    "    vars = gens(A)\n",
    "    varsbis = filter(y -> y != x, vars)\n",
    "\n",
    "    symbs = symbols(A)\n",
    "\n",
    "    R, () = polynomial_ring(base_ring(A), [symbs[1:idx-1]; symbs[idx+1:end]])\n",
    "    S, t = polynomial_ring(R, symbs[idx])\n",
    "\n",
    "    print([symbs[1:idx-1]; symbs[idx+1:end]][1])\n",
    "    \n",
    "    # Create the new polynomial Q by treating the variable x as the main variable\n",
    "    Q_coeffs = [ R(coeff(P,[x],[i])) for i in 0:degree(P,idx) ]\n",
    "    #Q = S(Q_coeffs)\n",
    "    \n",
    "    return Q_coeffs\n",
    "end"
   ]
  },
  {
   "cell_type": "code",
   "execution_count": 141,
   "metadata": {},
   "outputs": [
    {
     "name": "stdout",
     "output_type": "stream",
     "text": [
      "b"
     ]
    },
    {
     "ename": "ErrorException",
     "evalue": "Unable to coerce polynomial",
     "output_type": "error",
     "traceback": [
      "Unable to coerce polynomial\n",
      "\n",
      "Stacktrace:\n",
      " [1] error(s::String)\n",
      "   @ Base ./error.jl:35\n",
      " [2] QQMPolyRing\n",
      "   @ ~/.julia/packages/Nemo/RGGys/src/flint/fmpq_mpoly.jl:1189 [inlined]\n",
      " [3] #62\n",
      "   @ ./none:0 [inlined]\n",
      " [4] iterate\n",
      "   @ ./generator.jl:47 [inlined]\n",
      " [5] collect(itr::Base.Generator{UnitRange{Int64}, var\"#62#64\"{QQMPolyRingElem, QQMPolyRingElem, QQMPolyRing}})\n",
      "   @ Base ./array.jl:834\n",
      " [6] view_as_univariate(P::QQMPolyRingElem, x::QQMPolyRingElem)\n",
      "   @ Main ~/Documents/gittravail/AlgCurves/subresultant.ipynb:23\n",
      " [7] top-level scope\n",
      "   @ ~/Documents/gittravail/AlgCurves/subresultant.ipynb:1"
     ]
    }
   ],
   "source": [
    "view_as_univariate(P,a)"
   ]
  },
  {
   "cell_type": "code",
   "execution_count": 144,
   "metadata": {},
   "outputs": [
    {
     "data": {
      "text/plain": [
       "(Multivariate polynomial ring in 1 variable over QQ, QQMPolyRingElem[b])"
      ]
     },
     "metadata": {},
     "output_type": "display_data"
    }
   ],
   "source": [
    "test, () = polynomial_ring(QQ,[:b])"
   ]
  },
  {
   "cell_type": "code",
   "execution_count": 145,
   "metadata": {},
   "outputs": [
    {
     "ename": "ErrorException",
     "evalue": "Unable to coerce polynomial",
     "output_type": "error",
     "traceback": [
      "Unable to coerce polynomial\n",
      "\n",
      "Stacktrace:\n",
      " [1] error(s::String)\n",
      "   @ Base ./error.jl:35\n",
      " [2] (::QQMPolyRing)(a::QQMPolyRingElem)\n",
      "   @ Nemo ~/.julia/packages/Nemo/RGGys/src/flint/fmpq_mpoly.jl:1189\n",
      " [3] top-level scope\n",
      "   @ ~/Documents/gittravail/AlgCurves/subresultant.ipynb:1"
     ]
    }
   ],
   "source": [
    "test(b^2+1)"
   ]
  },
  {
   "cell_type": "code",
   "execution_count": 146,
   "metadata": {},
   "outputs": [
    {
     "data": {
      "text/plain": [
       "1-element Vector{QQMPolyRingElem}:\n",
       " b"
      ]
     },
     "metadata": {},
     "output_type": "display_data"
    }
   ],
   "source": [
    "gens(test)"
   ]
  },
  {
   "cell_type": "code",
   "execution_count": null,
   "metadata": {},
   "outputs": [],
   "source": []
  }
 ],
 "metadata": {
  "kernelspec": {
   "display_name": "Julia 1.10.1",
   "language": "julia",
   "name": "julia-1.10"
  },
  "language_info": {
   "file_extension": ".jl",
   "mimetype": "application/julia",
   "name": "julia",
   "version": "1.10.1"
  }
 },
 "nbformat": 4,
 "nbformat_minor": 2
}
