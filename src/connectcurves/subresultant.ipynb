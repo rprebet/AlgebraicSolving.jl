{
 "cells": [
  {
   "cell_type": "code",
   "execution_count": 1,
   "metadata": {},
   "outputs": [],
   "source": [
    "using Nemo"
   ]
  },
  {
   "cell_type": "code",
   "execution_count": 9,
   "metadata": {},
   "outputs": [
    {
     "data": {
      "text/plain": [
       "subresultants (generic function with 1 method)"
      ]
     },
     "metadata": {},
     "output_type": "display_data"
    }
   ],
   "source": [
    "function subresultants(P::PolyRingElem{T}, Q::PolyRingElem{T}) where T <: RingElement\n",
    "    if degree(P) < degree(Q)\n",
    "        P, Q = Q, P\n",
    "    end\n",
    "    S = []\n",
    "    s = leading_coefficient(Q)^(degree(P)-degree(Q))\n",
    "    A = Q\n",
    "    B = pseudorem(P,-Q)\n",
    "    ring = parent(P)\n",
    "    while true\n",
    "        d = degree(A)\n",
    "        e = degree(B)\n",
    "        if iszero(B)\n",
    "            return S\n",
    "        end\n",
    "        pushfirst!(S, copy(B))\n",
    "        delta = d - e\n",
    "        if delta > 1\n",
    "            if length(S) > 1\n",
    "                n = degree(S[2]) - degree(S[1]) - 1\n",
    "                if n == 0\n",
    "                    C = copy(S[1])\n",
    "                else\n",
    "                    x = leading_coefficient(S[1])\n",
    "                    y = leading_coefficient(S[2])\n",
    "                    a = 1 << (length(bits(ZZ(n))) - 1)\n",
    "                    c = x\n",
    "                    n = n - a\n",
    "                    while a > 1\n",
    "                        a ÷= 2\n",
    "                        c = c^2 / y\n",
    "                        if n >= a\n",
    "                            c = c * x / y\n",
    "                            n = n - a\n",
    "                        end\n",
    "                    end\n",
    "                    C = c * S[1] / y\n",
    "                end\n",
    "            else\n",
    "                C = leading_coefficient(B)^(delta-1) * B / s^(delta-1)\n",
    "            end\n",
    "            pushfirst!(S, copy(C))\n",
    "        else\n",
    "            C = copy(B)\n",
    "        end\n",
    "        if e == 0\n",
    "            return S\n",
    "        end\n",
    "        B = pseudorem(A,-B) / (s^delta * leading_coefficient(A))\n",
    "        A = copy(C)\n",
    "        s = leading_coefficient(A)\n",
    "    end\n",
    "end\n"
   ]
  },
  {
   "cell_type": "code",
   "execution_count": 11,
   "metadata": {},
   "outputs": [
    {
     "data": {
      "text/html": [
       "-x*y^2 + (x^2 + 6)*y - x^2 - x - 6"
      ],
      "text/latex": [
       "-x y^{2} + \\left(x^{2} + 6\\right) y - x^{2} - x - 6"
      ],
      "text/plain": [
       "-x*y^2 + (x^2 + 6)*y - x^2 - x - 6"
      ]
     },
     "metadata": {},
     "output_type": "display_data"
    }
   ],
   "source": [
    "#using Nemo\n",
    "R, x = polynomial_ring(QQ, \"x\")\n",
    "#f = x^8 + x^6 -3*x^4 -3*x^3 +8*x^2 +2*x -5\n",
    "#g = 3*x^6 +5*x^4 -4*x^2 -9*x +21\n",
    "S, y = polynomial_ring(R, \"y\")\n",
    "f = (y^2 + 6)*(x - 1) - y*(x^2 + 1)\n",
    "g = (x^2 + 6)*(y - 1) - x*(y^2 + 1)"
   ]
  },
  {
   "cell_type": "code",
   "execution_count": 12,
   "metadata": {},
   "outputs": [
    {
     "data": {
      "text/plain": [
       "2-element Vector{Any}:\n",
       " 2*x^6 - 22*x^5 + 102*x^4 - 274*x^3 + 488*x^2 - 552*x + 288\n",
       " (-x^2 + 5*x - 6)*y - x^3 + 6*x^2 - 11*x + 6"
      ]
     },
     "metadata": {},
     "output_type": "display_data"
    }
   ],
   "source": [
    "subresultants(f,g)"
   ]
  },
  {
   "cell_type": "code",
   "execution_count": 13,
   "metadata": {},
   "outputs": [
    {
     "ename": "ArgumentError",
     "evalue": "ArgumentError: not an exact division",
     "output_type": "error",
     "traceback": [
      "ArgumentError: not an exact division\n",
      "\n",
      "Stacktrace:\n",
      " [1] divexact(x::QQPolyRingElem, y::QQPolyRingElem; check::Bool)\n",
      "   @ Nemo ~/.julia/packages/Nemo/RGGys/src/flint/fmpq_poly.jl:454\n",
      " [2] divexact\n",
      "   @ ~/.julia/packages/Nemo/RGGys/src/flint/fmpq_poly.jl:449 [inlined]\n",
      " [3] inv\n",
      "   @ ~/.julia/packages/AbstractAlgebra/KwfqS/src/Rings.jl:38 [inlined]\n",
      " [4] divrem(f::AbstractAlgebra.Generic.Poly{QQPolyRingElem}, g::AbstractAlgebra.Generic.Poly{QQPolyRingElem})\n",
      "   @ Nemo ~/.julia/packages/Nemo/RGGys/src/HeckeMiscPoly.jl:450\n",
      " [5] top-level scope\n",
      "   @ ~/Documents/gittravail/AlgCurves/subresultant.ipynb:1"
     ]
    }
   ],
   "source": [
    "divrem(f,-g)[2]"
   ]
  },
  {
   "cell_type": "code",
   "execution_count": 14,
   "metadata": {},
   "outputs": [
    {
     "data": {
      "text/html": [
       "64"
      ],
      "text/latex": [
       "64"
      ],
      "text/plain": [
       "64"
      ]
     },
     "metadata": {},
     "output_type": "display_data"
    }
   ],
   "source": [
    "prevpow2(ZZ(100))"
   ]
  },
  {
   "cell_type": "code",
   "execution_count": 15,
   "metadata": {},
   "outputs": [
    {
     "data": {
      "text/plain": [
       "Integers"
      ]
     },
     "metadata": {},
     "output_type": "display_data"
    }
   ],
   "source": [
    "parent(degree(f))"
   ]
  },
  {
   "cell_type": "code",
   "execution_count": 16,
   "metadata": {},
   "outputs": [
    {
     "data": {
      "text/plain": [
       "(Multivariate polynomial ring in 2 variables over QQ, QQMPolyRingElem[a, b])"
      ]
     },
     "metadata": {},
     "output_type": "display_data"
    }
   ],
   "source": [
    "RR, (a,b) = Nemo.polynomial_ring(QQ,[:a,:b])"
   ]
  },
  {
   "cell_type": "code",
   "execution_count": 50,
   "metadata": {},
   "outputs": [
    {
     "data": {
      "text/html": [
       "a^2 + a*b^2 + a*b + b"
      ],
      "text/latex": [
       "a^{2} + a b^{2} + a b + b"
      ],
      "text/plain": [
       "a^2 + a*b^2 + a*b + b"
      ]
     },
     "metadata": {},
     "output_type": "display_data"
    }
   ],
   "source": []
  },
  {
   "cell_type": "code",
   "execution_count": 196,
   "metadata": {},
   "outputs": [
    {
     "data": {
      "text/plain": [
       "asvar_to_parray (generic function with 1 method)"
      ]
     },
     "metadata": {},
     "output_type": "display_data"
    }
   ],
   "source": [
    "function poly_to_array(P::MPolyRingElem)\n",
    "    # return P as two lists ci and vi of resp. coeffs and exponents\n",
    "    return [collect(coefficients(P)), collect(exponent_vectors(P))]\n",
    "end\n",
    "\n",
    "function rem_ind(L,i)\n",
    "    # remove element at index i\n",
    "    return [ L[1:i-1]; L[i+1:end] ]\n",
    "end\n",
    "\n",
    "function add_ind(L,i,x)\n",
    "    # add element x at index i\n",
    "    return [ L[1:i-1]; [x]; L[i:end] ]\n",
    "end\n",
    "\n",
    "function parray_asvar(LP, idx)\n",
    "    # takes a sparse representation of a poly P  \n",
    "    # and outputs a sparse rpz of P seen as a univariate poly in the i-th variable\n",
    "    deg = sort(LP[2], by= x->x[idx])[end][idx]\n",
    "    NLP = [ [[],[]] for _ in 1:deg+1 ]\n",
    "    for i in eachindex(LP[2])\n",
    "        di = LP[2][i][idx]+1\n",
    "        push!(NLP[di][1], LP[1][i])\n",
    "        push!(NLP[di][2], rem_ind(LP[2][i], idx)) \n",
    "    end\n",
    "    return NLP\n",
    "end\n",
    "\n",
    "function array_to_poly(LP, A)\n",
    "    C = MPolyBuildCtx(A)\n",
    "    R = base_ring(A)\n",
    "    for i in eachindex(LP[1])\n",
    "        push_term!(C, R(LP[1][i]), LP[2][i]);\n",
    "    end\n",
    "    return finish(C)\n",
    "end\n",
    "\n",
    "function asvar_to_parray(NLP, idx)\n",
    "    LP = [[],[]]\n",
    "    for i in 1:length(NLP)\n",
    "        for j in eachindex(NLP[i][1])\n",
    "            push!(LP[1], NLP[i][1][j])\n",
    "            push!(LP[2], add_ind(NLP[i][2][j], idx, i-1))\n",
    "        end\n",
    "    end\n",
    "    return LP\n",
    "end"
   ]
  },
  {
   "cell_type": "code",
   "execution_count": 133,
   "metadata": {},
   "outputs": [
    {
     "data": {
      "text/html": [
       "a*b + 1"
      ],
      "text/latex": [
       "a b + 1"
      ],
      "text/plain": [
       "a*b + 1"
      ]
     },
     "metadata": {},
     "output_type": "display_data"
    }
   ],
   "source": [
    "Q = a*b+1a"
   ]
  },
  {
   "cell_type": "code",
   "execution_count": 217,
   "metadata": {},
   "outputs": [
    {
     "data": {
      "text/plain": [
       "subresultants (generic function with 3 methods)"
      ]
     },
     "metadata": {},
     "output_type": "display_data"
    }
   ],
   "source": [
    "function subresultants(P::MPolyRingElem{T}, Q::MPolyRingElem{T}, idx) where T <: RingElement\n",
    "    LPQ = map(poly_to_array, [P,Q])\n",
    "    ULPQ = [ parray_asvar(lpq, idx) for lpq in LPQ ]\n",
    "\n",
    "    R, x = polynomial_ring(base_ring(parent(P)), \"x\")\n",
    "    S, y = polynomial_ring(R, \"y\")\n",
    "\n",
    "    UP, UQ = [ S([ array_to_poly(l, R) for l in lpq ]) for lpq in ULPQ ]\n",
    "\n",
    "    sr = subresultants(UP, UQ)\n",
    "\n",
    "    # Get it back to initial polynomial ring\n",
    "    Lsr = [ [collect(coefficients(csr)) for csr in coefficients(sr)] for sr in sr]\n",
    "    newsr = []\n",
    "    for lsr in Lsr\n",
    "        mlsr = [[],[]]\n",
    "        for i in 1:length(lsr)\n",
    "            for j in 1:length(lsr[i])\n",
    "                push!(mlsr[1], lsr[i][j])\n",
    "                push!(mlsr[2],add_ind([j-1],idx, i-1))\n",
    "            end\n",
    "        end\n",
    "        push!(newsr, array_to_poly(mlsr, parent(P)))\n",
    "    end\n",
    "\n",
    "    return newsr\n",
    "end"
   ]
  },
  {
   "cell_type": "code",
   "execution_count": 2,
   "metadata": {},
   "outputs": [
    {
     "data": {
      "text/plain": [
       "subresultants (generic function with 2 methods)"
      ]
     },
     "metadata": {},
     "output_type": "display_data"
    }
   ],
   "source": [
    "include(\"subresultants.jl\")"
   ]
  },
  {
   "cell_type": "code",
   "execution_count": 4,
   "metadata": {},
   "outputs": [
    {
     "data": {
      "text/plain": [
       "Any[]"
      ]
     },
     "metadata": {},
     "output_type": "display_data"
    }
   ],
   "source": [
    "R, (x,y) = polynomial_ring(ZZ, [:x,:y])\n",
    "f = (y^2 + 6)*(x - 1) - y*(x^2 + 1)\n",
    "g = (x^2 + 6)*(y - 1) - x*(y^2 + 1)\n",
    "idx = 2\n",
    "subresultants(x,x,1)"
   ]
  },
  {
   "cell_type": "code",
   "execution_count": 5,
   "metadata": {},
   "outputs": [
    {
     "data": {
      "text/plain": [
       "2-element Vector{Any}:\n",
       " 2*x^6 - 22*x^5 + 102*x^4 - 274*x^3 + 488*x^2 - 552*x + 288\n",
       " -x^3 - x^2*y + 6*x^2 + 5*x*y - 11*x - 6*y + 6"
      ]
     },
     "metadata": {},
     "output_type": "display_data"
    }
   ],
   "source": [
    "res = subresultants(f,g,idx)"
   ]
  },
  {
   "cell_type": "code",
   "execution_count": 213,
   "metadata": {},
   "outputs": [
    {
     "data": {
      "text/plain": [
       "1"
      ]
     },
     "metadata": {},
     "output_type": "display_data"
    }
   ],
   "source": [
    "idx"
   ]
  },
  {
   "cell_type": "code",
   "execution_count": 204,
   "metadata": {},
   "outputs": [
    {
     "data": {
      "text/plain": [
       "2-element Vector{Vector{Any}}:\n",
       " [1, 1, 1, 1]\n",
       " [[0, 1], [1, 2], [1, 1], [2, 0]]"
      ]
     },
     "metadata": {},
     "output_type": "display_data"
    }
   ],
   "source": [
    "NLP = parray_asvar(LP,1)\n",
    "asvar_to_parray(NLP,1)\n"
   ]
  },
  {
   "cell_type": "code",
   "execution_count": 128,
   "metadata": {},
   "outputs": [
    {
     "data": {
      "text/html": [
       "y^2 + (x^2 + x)*y + x"
      ],
      "text/latex": [
       "y^{2} + \\left(x^{2} + x\\right) y + x"
      ],
      "text/plain": [
       "y^2 + (x^2 + x)*y + x"
      ]
     },
     "metadata": {},
     "output_type": "display_data"
    }
   ],
   "source": [
    "S([ array_to_poly(lp, R) for lp in NLP ])"
   ]
  },
  {
   "cell_type": "code",
   "execution_count": 129,
   "metadata": {},
   "outputs": [
    {
     "data": {
      "text/html": [
       "a^2 + a*b^2 + a*b + b"
      ],
      "text/latex": [
       "a^{2} + a b^{2} + a b + b"
      ],
      "text/plain": [
       "a^2 + a*b^2 + a*b + b"
      ]
     },
     "metadata": {},
     "output_type": "display_data"
    }
   ],
   "source": []
  },
  {
   "cell_type": "code",
   "execution_count": 106,
   "metadata": {},
   "outputs": [
    {
     "data": {
      "text/plain": [
       "4-element Vector{Vector{Int64}}:\n",
       " [0, 1]\n",
       " [1, 2]\n",
       " [1, 1]\n",
       " [2, 0]"
      ]
     },
     "metadata": {},
     "output_type": "display_data"
    }
   ],
   "source": [
    "idx=1\n",
    "sort(LP[2], by= x->x[idx])"
   ]
  },
  {
   "cell_type": "code",
   "execution_count": 82,
   "metadata": {},
   "outputs": [
    {
     "data": {
      "text/plain": [
       "Base.Generator{UnitRange{Int64}, typeof(identity)}(identity, 1:2)"
      ]
     },
     "metadata": {},
     "output_type": "display_data"
    }
   ],
   "source": []
  },
  {
   "cell_type": "code",
   "execution_count": null,
   "metadata": {},
   "outputs": [],
   "source": []
  }
 ],
 "metadata": {
  "kernelspec": {
   "display_name": "Julia 1.10.1",
   "language": "julia",
   "name": "julia-1.10"
  },
  "language_info": {
   "file_extension": ".jl",
   "mimetype": "application/julia",
   "name": "julia",
   "version": "1.10.1"
  }
 },
 "nbformat": 4,
 "nbformat_minor": 2
}
